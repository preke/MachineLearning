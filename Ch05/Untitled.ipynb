{
 "cells": [
  {
   "cell_type": "code",
   "execution_count": 2,
   "metadata": {
    "collapsed": false
   },
   "outputs": [
    {
     "data": {
      "text/plain": [
       "matrix([[ 4.12414349],\n",
       "        [ 0.48007329],\n",
       "        [-0.6168482 ]])"
      ]
     },
     "execution_count": 2,
     "metadata": {},
     "output_type": "execute_result"
    }
   ],
   "source": [
    "import logRegres\n",
    "dataArr, labelMat = logRegres.loadDataSet()\n",
    "logRegres.gradAscent(dataArr, labelMat)"
   ]
  },
  {
   "cell_type": "code",
   "execution_count": 17,
   "metadata": {
    "collapsed": false
   },
   "outputs": [
    {
     "name": "stdout",
     "output_type": "stream",
     "text": [
      "[[  1.00000000e+00  -1.76120000e-02   1.40530640e+01]\n",
      " [  1.00000000e+00  -1.39563400e+00   4.66254100e+00]\n",
      " [  1.00000000e+00  -7.52157000e-01   6.53862000e+00]\n",
      " [  1.00000000e+00  -1.32237100e+00   7.15285300e+00]\n",
      " [  1.00000000e+00   4.23363000e-01   1.10546770e+01]\n",
      " [  1.00000000e+00   4.06704000e-01   7.06733500e+00]\n",
      " [  1.00000000e+00   6.67394000e-01   1.27414520e+01]\n",
      " [  1.00000000e+00  -2.46015000e+00   6.86680500e+00]\n",
      " [  1.00000000e+00   5.69411000e-01   9.54875500e+00]\n",
      " [  1.00000000e+00  -2.66320000e-02   1.04277430e+01]\n",
      " [  1.00000000e+00   8.50433000e-01   6.92033400e+00]\n",
      " [  1.00000000e+00   1.34718300e+00   1.31755000e+01]\n",
      " [  1.00000000e+00   1.17681300e+00   3.16702000e+00]\n",
      " [  1.00000000e+00  -1.78187100e+00   9.09795300e+00]\n",
      " [  1.00000000e+00  -5.66606000e-01   5.74900300e+00]\n",
      " [  1.00000000e+00   9.31635000e-01   1.58950500e+00]\n",
      " [  1.00000000e+00  -2.42050000e-02   6.15182300e+00]\n",
      " [  1.00000000e+00  -3.64530000e-02   2.69098800e+00]\n",
      " [  1.00000000e+00  -1.96949000e-01   4.44165000e-01]\n",
      " [  1.00000000e+00   1.01445900e+00   5.75439900e+00]\n",
      " [  1.00000000e+00   1.98529800e+00   3.23061900e+00]\n",
      " [  1.00000000e+00  -1.69345300e+00  -5.57540000e-01]\n",
      " [  1.00000000e+00  -5.76525000e-01   1.17789220e+01]\n",
      " [  1.00000000e+00  -3.46811000e-01  -1.67873000e+00]\n",
      " [  1.00000000e+00  -2.12448400e+00   2.67247100e+00]\n",
      " [  1.00000000e+00   1.21791600e+00   9.59701500e+00]\n",
      " [  1.00000000e+00  -7.33928000e-01   9.09868700e+00]\n",
      " [  1.00000000e+00  -3.64200100e+00  -1.61808700e+00]\n",
      " [  1.00000000e+00   3.15985000e-01   3.52395300e+00]\n",
      " [  1.00000000e+00   1.41661400e+00   9.61923200e+00]\n",
      " [  1.00000000e+00  -3.86323000e-01   3.98928600e+00]\n",
      " [  1.00000000e+00   5.56921000e-01   8.29498400e+00]\n",
      " [  1.00000000e+00   1.22486300e+00   1.15873600e+01]\n",
      " [  1.00000000e+00  -1.34780300e+00  -2.40605100e+00]\n",
      " [  1.00000000e+00   1.19660400e+00   4.95185100e+00]\n",
      " [  1.00000000e+00   2.75221000e-01   9.54364700e+00]\n",
      " [  1.00000000e+00   4.70575000e-01   9.33248800e+00]\n",
      " [  1.00000000e+00  -1.88956700e+00   9.54266200e+00]\n",
      " [  1.00000000e+00  -1.52789300e+00   1.21505790e+01]\n",
      " [  1.00000000e+00  -1.18524700e+00   1.13093180e+01]\n",
      " [  1.00000000e+00  -4.45678000e-01   3.29730300e+00]\n",
      " [  1.00000000e+00   1.04222200e+00   6.10515500e+00]\n",
      " [  1.00000000e+00  -6.18787000e-01   1.03209860e+01]\n",
      " [  1.00000000e+00   1.15208300e+00   5.48467000e-01]\n",
      " [  1.00000000e+00   8.28534000e-01   2.67604500e+00]\n",
      " [  1.00000000e+00  -1.23772800e+00   1.05490330e+01]\n",
      " [  1.00000000e+00  -6.83565000e-01  -2.16612500e+00]\n",
      " [  1.00000000e+00   2.29456000e-01   5.92193800e+00]\n",
      " [  1.00000000e+00  -9.59885000e-01   1.15553360e+01]\n",
      " [  1.00000000e+00   4.92911000e-01   1.09933240e+01]\n",
      " [  1.00000000e+00   1.84992000e-01   8.72148800e+00]\n",
      " [  1.00000000e+00  -3.55715000e-01   1.03259760e+01]\n",
      " [  1.00000000e+00  -3.97822000e-01   8.05839700e+00]\n",
      " [  1.00000000e+00   8.24839000e-01   1.37303430e+01]\n",
      " [  1.00000000e+00   1.50727800e+00   5.02786600e+00]\n",
      " [  1.00000000e+00   9.96710000e-02   6.83583900e+00]\n",
      " [  1.00000000e+00  -3.44008000e-01   1.07174850e+01]\n",
      " [  1.00000000e+00   1.78592800e+00   7.71864500e+00]\n",
      " [  1.00000000e+00  -9.18801000e-01   1.15602170e+01]\n",
      " [  1.00000000e+00  -3.64009000e-01   4.74730000e+00]\n",
      " [  1.00000000e+00  -8.41722000e-01   4.11908300e+00]\n",
      " [  1.00000000e+00   4.90426000e-01   1.96053900e+00]\n",
      " [  1.00000000e+00  -7.19400000e-03   9.07579200e+00]\n",
      " [  1.00000000e+00   3.56107000e-01   1.24478630e+01]\n",
      " [  1.00000000e+00   3.42578000e-01   1.22811620e+01]\n",
      " [  1.00000000e+00  -8.10823000e-01  -1.46601800e+00]\n",
      " [  1.00000000e+00   2.53077700e+00   6.47680100e+00]\n",
      " [  1.00000000e+00   1.29668300e+00   1.16075590e+01]\n",
      " [  1.00000000e+00   4.75487000e-01   1.20400350e+01]\n",
      " [  1.00000000e+00  -7.83277000e-01   1.10097250e+01]\n",
      " [  1.00000000e+00   7.47980000e-02   1.10236500e+01]\n",
      " [  1.00000000e+00  -1.33747200e+00   4.68339000e-01]\n",
      " [  1.00000000e+00  -1.02781000e-01   1.37636510e+01]\n",
      " [  1.00000000e+00  -1.47324000e-01   2.87484600e+00]\n",
      " [  1.00000000e+00   5.18389000e-01   9.88703500e+00]\n",
      " [  1.00000000e+00   1.01539900e+00   7.57188200e+00]\n",
      " [  1.00000000e+00  -1.65808600e+00  -2.72550000e-02]\n",
      " [  1.00000000e+00   1.31994400e+00   2.17122800e+00]\n",
      " [  1.00000000e+00   2.05621600e+00   5.01998100e+00]\n",
      " [  1.00000000e+00  -8.51633000e-01   4.37569100e+00]\n",
      " [  1.00000000e+00  -1.51004700e+00   6.06199200e+00]\n",
      " [  1.00000000e+00  -1.07663700e+00  -3.18188800e+00]\n",
      " [  1.00000000e+00   1.82109600e+00   1.02839900e+01]\n",
      " [  1.00000000e+00   3.01015000e+00   8.40176600e+00]\n",
      " [  1.00000000e+00  -1.09945800e+00   1.68827400e+00]\n",
      " [  1.00000000e+00  -8.34872000e-01  -1.73386900e+00]\n",
      " [  1.00000000e+00  -8.46637000e-01   3.84907500e+00]\n",
      " [  1.00000000e+00   1.40010200e+00   1.26287810e+01]\n",
      " [  1.00000000e+00   1.75284200e+00   5.46816600e+00]\n",
      " [  1.00000000e+00   7.85570000e-02   5.97360000e-02]\n",
      " [  1.00000000e+00   8.93920000e-02  -7.15300000e-01]\n",
      " [  1.00000000e+00   1.82566200e+00   1.26938080e+01]\n",
      " [  1.00000000e+00   1.97445000e-01   9.74463800e+00]\n",
      " [  1.00000000e+00   1.26117000e-01   9.22311000e-01]\n",
      " [  1.00000000e+00  -6.79797000e-01   1.22053000e+00]\n",
      " [  1.00000000e+00   6.77983000e-01   2.55666600e+00]\n",
      " [  1.00000000e+00   7.61349000e-01   1.06938620e+01]\n",
      " [  1.00000000e+00  -2.16879100e+00   1.43632000e-01]\n",
      " [  1.00000000e+00   1.38861000e+00   9.34199700e+00]\n",
      " [  1.00000000e+00   3.17029000e-01   1.47390250e+01]]\n"
     ]
    },
    {
     "data": {
      "image/png": "[encoded data removed]",
      "text/plain": [
       "<matplotlib.figure.Figure at 0x6bb1f98>"
      ]
     },
     "metadata": {},
     "output_type": "display_data"
    }
   ],
   "source": [
    "from numpy import *\n",
    "reload(logRegres)\n",
    "weights = logRegres.gradAscent(dataArr, labelMat)\n",
    "logRegres.plotBestFit(weights.getA())"
   ]
  },
  {
   "cell_type": "code",
   "execution_count": 34,
   "metadata": {
    "collapsed": false
   },
   "outputs": [
    {
     "data": {
      "text/plain": [
       "matrix([[ 0.,  0.,  0.],\n",
       "        [ 0.,  0.,  0.],\n",
       "        [ 0.,  0.,  0.],\n",
       "        [ 0.,  0.,  0.],\n",
       "        [ 0.,  0.,  0.],\n",
       "        [ 0.,  0.,  0.],\n",
       "        [ 0.,  0.,  0.],\n",
       "        [ 0.,  0.,  0.],\n",
       "        [ 0.,  0.,  0.],\n",
       "        [ 0.,  0.,  0.]])"
      ]
     },
     "execution_count": 34,
     "metadata": {},
     "output_type": "execute_result"
    }
   ],
   "source": [
    "b=mat(zeros((10,3)))\n",
    "a=ones((3,1))\n",
    "c = b*3\n",
    "c"
   ]
  }
 ],
 "metadata": {
  "anaconda-cloud": {},
  "kernelspec": {
   "display_name": "Python [default]",
   "language": "python",
   "name": "python2"
  },
  "language_info": {
   "codemirror_mode": {
    "name": "ipython",
    "version": 2.0
   },
   "file_extension": ".py",
   "mimetype": "text/x-python",
   "name": "python",
   "nbconvert_exporter": "python",
   "pygments_lexer": "ipython2",
   "version": "2.7.12"
  }
 },
 "nbformat": 4,
 "nbformat_minor": 0
}