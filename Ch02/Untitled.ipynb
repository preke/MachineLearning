{
 "cells": [
  {
   "cell_type": "code",
   "execution_count": 16,
   "metadata": {
    "collapsed": false
   },
   "outputs": [
    {
     "name": "stdout",
     "output_type": "stream",
     "text": [
      "[[ 1  4  9]\n",
      " [ 9 16 25]]\n",
      "---------\n",
      "[10 20 34]\n",
      "---------\n",
      "[14 50]\n"
     ]
    }
   ],
   "source": [
    "import kNN\n",
    "from numpy import *\n",
    "group, labels = kNN.createDataSet()\n",
    "data = numpy.array([[1,2,3],\n",
    "        [3,4,5]])\n",
    "c = data**2\n",
    "print c\n",
    "print '---------'\n",
    "print c.sum(axis=0)\n",
    "print '---------'\n",
    "print c.sum(axis=1)"
   ]
  }
 ],
 "metadata": {
  "anaconda-cloud": {},
  "kernelspec": {
   "display_name": "Python [default]",
   "language": "python",
   "name": "python2"
  },
  "language_info": {
   "codemirror_mode": {
    "name": "ipython",
    "version": 2
   },
   "file_extension": ".py",
   "mimetype": "text/x-python",
   "name": "python",
   "nbconvert_exporter": "python",
   "pygments_lexer": "ipython2",
   "version": "2.7.12"
  }
 },
 "nbformat": 4,
 "nbformat_minor": 1
}
